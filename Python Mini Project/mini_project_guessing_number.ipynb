{
 "cells": [
  {
   "cell_type": "code",
   "execution_count": 1,
   "metadata": {},
   "outputs": [],
   "source": [
    "import random"
   ]
  },
  {
   "cell_type": "markdown",
   "metadata": {},
   "source": [
    "### Trong project này, chúng ta sẽ làm 1 trò chơi nhỏ mang tên đoán số. Cụ thể, Máy tính sẽ chọn random 1 số từ 1 đến 10 (không in ra màn hình).\n",
    "### Chúng ta sẽ đoán máy tính chọn số bao nhiêu?\n",
    "#### - Nếu số chúng ta đoán thấp hơn máy tính thì in ra \"Your guessing number is too low\"\n",
    "#### - Nếu số chúng ta đoán cao hơn máy tính thì in ra \"Your guessing number is too high\"\n",
    "#### - Nếu chúng ta đoán đúng số thì in ra \"You got the correct number after\" xx \"tries\" trong đó xx là số lần đoán. (xx <= 5)\n",
    "#### - Trường hợp 5 lần đoán sai thì sẽ dừng trò chơi và in ra \"Gameover!!! The correct number is yy\" trong đó yy là số mà máy tính chọn\n",
    "\n",
    "#### Những kiến thức cover trong project này: input(), print(), while loop, if - elif - else, break."
   ]
  },
  {
   "cell_type": "code",
   "execution_count": 2,
   "metadata": {},
   "outputs": [
    {
     "name": "stdout",
     "output_type": "stream",
     "text": [
      "What's your name\n",
      "Kim\n",
      "Welcome Kim to the number guessing game\n"
     ]
    }
   ],
   "source": [
    "# generate random number\n",
    "computer = random.randint(0,10)\n",
    "\n",
    "# input player's name\n",
    "print(\"What's your name\")\n",
    "name = input()\n",
    "\n",
    "# Say hi and welcome player to the guessing game\n",
    "print(\"Welcome \" + str(name) + \" to the number guessing game\")\n"
   ]
  },
  {
   "cell_type": "code",
   "execution_count": 3,
   "metadata": {
    "scrolled": true
   },
   "outputs": [
    {
     "name": "stdout",
     "output_type": "stream",
     "text": [
      "Your guess is \n",
      "5\n",
      "Your guessing number is too high\n",
      "Your guess is \n",
      "4\n",
      "Your guessing number is too high\n",
      "Your guess is \n",
      "1\n",
      "Your guessing number is too high\n",
      "Your guess is \n",
      "0\n",
      "You got the correct number after 4 tries\n"
     ]
    }
   ],
   "source": [
    "# develop while loop\n",
    "times = 1\n",
    "\n",
    "if times <= 5:\n",
    "    while times <= 5 :\n",
    "        print(\"Your guess is \")\n",
    "        guess = int(input())\n",
    "        if guess == computer:\n",
    "                print(\"You got the correct number after \" + str(times) + \" tries\")\n",
    "                break\n",
    "        elif guess > computer:\n",
    "                print(\"Your guessing number is too high\")\n",
    "        elif guess < computer:\n",
    "            print(\"Your guessing number is too low\")\n",
    "            \n",
    "        if times == 5 :\n",
    "                print(\"Gameover!!! The correct number is \" + str(computer))\n",
    "                break\n",
    "        times = times + 1\n",
    "      \n",
    "\n"
   ]
  },
  {
   "cell_type": "code",
   "execution_count": null,
   "metadata": {},
   "outputs": [],
   "source": []
  },
  {
   "cell_type": "markdown",
   "metadata": {},
   "source": [
    "### "
   ]
  }
 ],
 "metadata": {
  "kernelspec": {
   "display_name": "Python 3 (ipykernel)",
   "language": "python",
   "name": "python3"
  },
  "language_info": {
   "codemirror_mode": {
    "name": "ipython",
    "version": 3
   },
   "file_extension": ".py",
   "mimetype": "text/x-python",
   "name": "python",
   "nbconvert_exporter": "python",
   "pygments_lexer": "ipython3",
   "version": "3.9.13"
  }
 },
 "nbformat": 4,
 "nbformat_minor": 2
}
