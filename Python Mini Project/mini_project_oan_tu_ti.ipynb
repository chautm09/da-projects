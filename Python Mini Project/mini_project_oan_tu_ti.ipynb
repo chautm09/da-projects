{
 "cells": [
  {
   "cell_type": "code",
   "execution_count": 1,
   "metadata": {},
   "outputs": [],
   "source": [
    "import random\n",
    "import numpy as np"
   ]
  },
  {
   "cell_type": "markdown",
   "metadata": {},
   "source": [
    "#### Trong project này chúng ta sẽ mô phỏng lại trò chơi dân gian oẳn tù tì.\n",
    "#### Cụ thể, chúng ta sẽ oẳn tù tì với máy. Máy sẽ chọn random búa, kéo, hoặc lá trong mỗi lần oẳn tù tì.\n",
    "#### Chúng ta sẽ chọn ra búa, kéo hoặc lá sau đó in ra kết quả. Trường hợp người chơi nhập sai, yêu cầu người chơi nhập lại theo đúng chính tả theo 3 sự lựa chọn búa, kéo, hoặc lá.\n",
    "#### Lưu ý, sau mỗi lượt chơi, máy sẽ random chọn lại búa kéo hoặc lá.\n",
    "\n",
    "#### Các kiến thức cover trong mini project này: Array, random, while loop, if - elif - else."
   ]
  },
  {
   "cell_type": "code",
   "execution_count": 2,
   "metadata": {},
   "outputs": [
    {
     "name": "stdout",
     "output_type": "stream",
     "text": [
      "Bạn chọn búa, kéo hay lá? Vui lòng nhập đúng chính tả bạn nhé\n",
      "kem\n",
      "Input chưa đúng, bạn vui lòng kiểm tra lại nhé, chú ý lỗi chính tả\n",
      "kéo\n",
      "Thắng\n"
     ]
    }
   ],
   "source": [
    "# tạo array búa, kéo, lá\n",
    "list = np.array(['búa', 'kéo', 'lá'])\n",
    "\n",
    "\n",
    "# máy chọn random\n",
    "computer = random.choice(list)\n",
    "\n",
    "\n",
    "# tạo vòng lặp while để chạy chương trình\n",
    "\n",
    "print(\"Bạn chọn búa, kéo hay lá? Vui lòng nhập đúng chính tả bạn nhé\")\n",
    "gamer = input()\n",
    "\n",
    "index = 1\n",
    "while index != 0:\n",
    "    if gamer != \"búa\" and gamer != \"kéo\" and gamer != \"lá\":\n",
    "        index = 1\n",
    "        print(\"Input chưa đúng, bạn vui lòng kiểm tra lại nhé, chú ý lỗi chính tả\")\n",
    "        gamer = input()\n",
    "    else :\n",
    "        index = 0\n",
    "        if gamer == \"búa\" and computer == \"búa\":\n",
    "            print(\"Hòa\")\n",
    "        elif gamer == \"búa\" and computer == \"kéo\":\n",
    "            print(\"Thắng\")\n",
    "        elif gamer == \"búa\" and computer == \"lá\":\n",
    "            print(\"Thua\")\n",
    "        elif gamer == \"kéo\" and computer == \"búa\":\n",
    "            print(\"Thua\")\n",
    "        elif gamer == \"kéo\" and computer == \"kéo\":\n",
    "            print(\"Hòa\")\n",
    "        elif gamer == \"kéo\" and computer == \"lá\":\n",
    "            print(\"Thắng\")\n",
    "        elif gamer == \"lá\" and computer == \"búa\":\n",
    "            print(\"Thắng\")\n",
    "        elif gamer == \"lá\" and computer == \"kéo\":\n",
    "            print(\"Thua\")\n",
    "        else :\n",
    "            print(\"Hòa\")"
   ]
  },
  {
   "cell_type": "code",
   "execution_count": null,
   "metadata": {},
   "outputs": [],
   "source": []
  },
  {
   "cell_type": "code",
   "execution_count": null,
   "metadata": {},
   "outputs": [],
   "source": []
  }
 ],
 "metadata": {
  "kernelspec": {
   "display_name": "Python 3 (ipykernel)",
   "language": "python",
   "name": "python3"
  },
  "language_info": {
   "codemirror_mode": {
    "name": "ipython",
    "version": 3
   },
   "file_extension": ".py",
   "mimetype": "text/x-python",
   "name": "python",
   "nbconvert_exporter": "python",
   "pygments_lexer": "ipython3",
   "version": "3.9.13"
  }
 },
 "nbformat": 4,
 "nbformat_minor": 2
}
